{
 "cells": [
  {
   "cell_type": "markdown",
   "metadata": {},
   "source": [
    "# ENCH 470 Fall 2020 Lecture 17: Intro to GitHub\n",
    "\n",
    "GitHub is an important tool used in industry and academia for version control. Here's a test file we'll use to explore version control in GitHub.\n",
    "\n",
    "**<font color=red> First problem: </font>** follow the instructions from the [GitHub Guide](https://guides.github.com/activities/hello-world/) to create your account and make a repository. \n",
    "\n",
    "**<font color=red> Second problem: </font>** Clone my repository into your GitHub.\n",
    "\n",
    "**<font color=red> Third problem: </font>** Add or modify some code in this document, and open a pull request.\n",
    "\n",
    "**<font color=red> Fourth problem: </font>** Working with someone else in the class, create a repo and/or make a change to someone else's repo."
   ]
  },
  {
   "cell_type": "code",
   "execution_count": 4,
   "metadata": {},
   "outputs": [
    {
     "name": "stdout",
     "output_type": "stream",
     "text": [
      "[1, 2, 3, 8]\n"
     ]
    }
   ],
   "source": [
    "# Here's a simple code block from our first lecture:\n",
    "\n",
    "x=1\n",
    "y=2\n",
    "z=3\n",
    "q=x*y**z \n",
    "qxyz = [x,y,z,q]\n",
    "print(qxyz)"
   ]
  },
  {
   "cell_type": "code",
   "execution_count": null,
   "metadata": {},
   "outputs": [],
   "source": [
    "# I added a comment"
   ]
  },
  {
   "cell_type": "code",
   "execution_count": 1,
   "metadata": {},
   "outputs": [
    {
     "name": "stdout",
     "output_type": "stream",
     "text": [
      "61670\n"
     ]
    }
   ],
   "source": [
    "NicksVariable = 1234\n",
    "NicksOutput = NicksVariable*50-30\n",
    "print(NicksOutput)"
   ]
  }
 ],
 "metadata": {
  "kernelspec": {
   "display_name": "Python 3",
   "language": "python",
   "name": "python3"
  },
  "language_info": {
   "codemirror_mode": {
    "name": "ipython",
    "version": 3
   },
   "file_extension": ".py",
   "mimetype": "text/x-python",
   "name": "python",
   "nbconvert_exporter": "python",
   "pygments_lexer": "ipython3",
   "version": "3.8.3"
  }
 },
 "nbformat": 4,
 "nbformat_minor": 4
}
